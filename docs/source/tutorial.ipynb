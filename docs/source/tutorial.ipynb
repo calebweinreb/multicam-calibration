{
 "cells": [
  {
   "cell_type": "markdown",
   "metadata": {},
   "source": [
    "# Chessboard detection"
   ]
  },
  {
   "cell_type": "code",
   "execution_count": null,
   "metadata": {},
   "outputs": [],
   "source": [
    "import imageio, tqdm\n",
    "import numpy as np\n",
    "import joblib\n",
    "import matplotlib.pyplot as plt\n",
    "import cv2, os, time, glob\n",
    "import networkx as nx\n",
    "na = np.newaxis\n",
    "\n",
    "def orient_board(uvs, markers, board=(7,10)):\n",
    "    \"\"\"flip order of chessboard points so that first is farthest from markers\"\"\"\n",
    "    \n",
    "    distance = np.sqrt(((uvs - markers.mean(1)[:,na,:])**2).sum(-1))\n",
    "    flip = distance[:,0] < distance[:,-1]\n",
    "    \n",
    "    cols,rows = board\n",
    "    uvs[flip] = uvs[flip].reshape(-1,rows,cols,2)[:,::-1].reshape(-1,rows*cols,2)   \n",
    "    return uvs\n",
    "\n",
    "board = (7,10)\n",
    "\n",
    "prefixes = []\n",
    "img_sizes = []\n",
    "all_chessboard_uvs = []\n",
    "\n",
    "# load and orient chessboard detections\n",
    "calib_dir = '../../data/23_3_16_calibration/'\n",
    "for path in tqdm.tqdm(glob.glob(calib_dir+'/*.corners.p')):\n",
    "    \n",
    "    prefix = path.split('.corners')[0]\n",
    "    uvs,ixs = map(np.array,joblib.load(path))\n",
    "    markers = joblib.load(prefix+'.circle_plus.p')['uv']\n",
    "    uvs = orient_board(uvs, markers[ixs], board=board)\n",
    "    chessboard_uvs = np.zeros((18001,70,2))*np.nan\n",
    "    chessboard_uvs[ixs] = uvs\n",
    "\n",
    "    all_chessboard_uvs.append(chessboard_uvs)\n",
    "    prefixes.append(prefix)\n",
    "\n",
    "all_calib_uvs = np.array(all_chessboard_uvs)\n",
    "\n",
    "img_sizes = [\n",
    "    (1280, 1024),\n",
    "    (1280, 1024),\n",
    "    (1280, 832),\n",
    "    (1280, 832),\n",
    "    (1280, 832),\n",
    "    (1280, 832)]"
   ]
  },
  {
   "cell_type": "markdown",
   "metadata": {},
   "source": [
    "# Initial calibration"
   ]
  },
  {
   "cell_type": "code",
   "execution_count": null,
   "metadata": {},
   "outputs": [],
   "source": [
    "from multicam_calibration import calibrate, plot_residuals, chessboard"
   ]
  },
  {
   "cell_type": "code",
   "execution_count": null,
   "metadata": {},
   "outputs": [],
   "source": [
    "chess_board_shape = (7,10)\n",
    "chess_board_square_size = 12.5\n",
    "calib_objpoints = chessboard.generate_objpoints(chess_board_shape, chess_board_square_size)\n",
    "\n",
    "all_extrinsics, all_intrinsics, calib_poses = calibrate(\n",
    "    all_calib_uvs, img_sizes, calib_objpoints, root=0)\n"
   ]
  },
  {
   "cell_type": "code",
   "execution_count": null,
   "metadata": {},
   "outputs": [],
   "source": [
    "fig, mean_squared_error, reprojections, transformed_reprojections = plot_residuals(\n",
    "    all_calib_uvs, all_extrinsics, all_intrinsics, calib_objpoints, calib_poses)"
   ]
  },
  {
   "cell_type": "markdown",
   "metadata": {},
   "source": [
    "# Bundle Adjustment"
   ]
  },
  {
   "cell_type": "code",
   "execution_count": null,
   "metadata": {},
   "outputs": [],
   "source": [
    "adj_extrinsics, adj_intrinsics, adj_calib_poses, use_frames, result = \\\n",
    "    bundle_adjust(all_calib_uvs, all_extrinsics, all_intrinsics, calib_poses, calib_objpoints, n_frames=500, ftol=1e-4)"
   ]
  },
  {
   "cell_type": "code",
   "execution_count": null,
   "metadata": {},
   "outputs": [],
   "source": [
    "fig, median_error, reprojections, transformed_reprojections = plot_residuals(\n",
    "    all_calib_uvs[:,use_frames], adj_extrinsics, adj_intrinsics, adj_calib_positions, calib_objpoints)"
   ]
  }
 ],
 "metadata": {
  "kernelspec": {
   "display_name": "keypoint_moseq",
   "language": "python",
   "name": "keypoint_moseq"
  },
  "language_info": {
   "codemirror_mode": {
    "name": "ipython",
    "version": 3
   },
   "file_extension": ".py",
   "mimetype": "text/x-python",
   "name": "python",
   "nbconvert_exporter": "python",
   "pygments_lexer": "ipython3",
   "version": "3.9.15"
  }
 },
 "nbformat": 4,
 "nbformat_minor": 2
}
